{
 "cells": [
  {
   "cell_type": "code",
   "execution_count": 12,
   "metadata": {},
   "outputs": [
    {
     "name": "stdout",
     "output_type": "stream",
     "text": [
      "✅ Connected to SQL Server successfully!\n",
      "('QR',)\n"
     ]
    }
   ],
   "source": [
    "import pyodbc\n",
    "import qrcode\n",
    "import io\n",
    "from PIL import Image\n",
    "\n",
    "\n",
    "# Define connection parameters\n",
    "server = 'DESKTOP-7L2TS2S\\\\SQLEXPRESS'  # Double backslashes for Python\n",
    "database = 'Church'  # Replace with your actual database name\n",
    "driver = '{ODBC Driver 17 for SQL Server}'  # Check your ODBC drivers\n",
    "\n",
    "# Use Windows Authentication (Trusted Connection)\n",
    "conn_str = f'DRIVER={driver};SERVER={server};DATABASE={database};Trusted_Connection=yes;'\n",
    "\n",
    "try:\n",
    "    # Connect to SQL Server\n",
    "    conn = pyodbc.connect(conn_str)\n",
    "    print(\"✅ Connected to SQL Server successfully!\")\n",
    "\n",
    "    # Create a cursor\n",
    "    cursor = conn.cursor()\n",
    "\n",
    "    # Example: Fetch all tables in the database\n",
    "    cursor.execute(\"SELECT TABLE_NAME FROM INFORMATION_SCHEMA.TABLES\")\n",
    "    \n",
    "    # Print results\n",
    "    for row in cursor.fetchall():\n",
    "        print(row)\n",
    "\n",
    "    # Close the connection\n",
    "    conn.close()\n",
    "except Exception as e:\n",
    "    print(\"❌ Connection failed:\", e)\n"
   ]
  },
  {
   "cell_type": "code",
   "execution_count": null,
   "metadata": {},
   "outputs": [
    {
     "name": "stdout",
     "output_type": "stream",
     "text": [
      "✅ Data inserted successfully!\n"
     ]
    }
   ],
   "source": [
    "\n",
    "def generate_qr(data):\n",
    "    \"\"\"Generate QR code and return it as binary data.\"\"\"\n",
    "    qr = qrcode.make(data)\n",
    "    buffered = io.BytesIO()\n",
    "    qr.save(buffered, format=\"PNG\")  # Save as PNG format\n",
    "    return buffered.getvalue()  # Return binary data\n",
    "\n",
    "def insert_data(name, four_digit_number):\n",
    "    \"\"\"Insert name, ID, and QR code into the database as binary.\"\"\"\n",
    "    try:\n",
    "        conn = pyodbc.connect(conn_str)\n",
    "        cursor = conn.cursor()\n",
    "\n",
    "        qr_binary = generate_qr(str(four_digit_number))  # Generate binary QR code\n",
    "\n",
    "        # Use `pyodbc.Binary()` to explicitly convert to VARBINARY\n",
    "        cursor.execute(\"INSERT INTO dbo.QR (name, id, qr) VALUES (?, ?, ?)\", \n",
    "                       (name, four_digit_number, pyodbc.Binary(qr_binary)))\n",
    "\n",
    "        conn.commit()\n",
    "        conn.close()\n",
    "        print(\"✅ Data inserted successfully!\")\n",
    "\n",
    "    except Exception as e:\n",
    "        print(\"❌ Error:\", e)\n",
    "\n",
    "# Example usage\n",
    "name = input(\"Enter name: \")\n",
    "four_digit_number = input(\"Enter a 4-digit number: \")\n",
    "\n",
    "if four_digit_number.isdigit() and len(four_digit_number) == 4:\n",
    "    insert_data(name, int(four_digit_number))\n",
    "else:\n",
    "    print(\"❌ Invalid input! Please enter a 4-digit number.\")\n"
   ]
  },
  {
   "cell_type": "code",
   "execution_count": null,
   "metadata": {},
   "outputs": [
    {
     "name": "stdout",
     "output_type": "stream",
     "text": [
      "✅ Name: maria                                             \n",
      "✅ ID: 1234\n"
     ]
    }
   ],
   "source": [
    "import pyodbc\n",
    "import io\n",
    "\n",
    "# Database connection parameters\n",
    "server = 'DESKTOP-7L2TS2S\\\\SQLEXPRESS'\n",
    "database = 'Church'\n",
    "driver = '{ODBC Driver 17 for SQL Server}'\n",
    "\n",
    "conn_str = f'DRIVER={driver};SERVER={server};DATABASE={database};Trusted_Connection=yes;'\n",
    "\n",
    "def fetch_qr_info(four_digit_number):\n",
    "    \"\"\"Fetch name and QR code from the database and display it.\"\"\"\n",
    "    try:\n",
    "        conn = pyodbc.connect(conn_str)\n",
    "        cursor = conn.cursor()\n",
    "\n",
    "        # Fetch the record where ID matches\n",
    "        cursor.execute(\"SELECT name, qr FROM dbo.QR WHERE id = ?\", (four_digit_number,))\n",
    "        row = cursor.fetchone()\n",
    "\n",
    "        if row:\n",
    "            name, qr_binary = row\n",
    "            print(f\"✅ Name: {name}\")\n",
    "            print(f\"✅ ID: {four_digit_number}\")\n",
    "\n",
    "            if qr_binary:\n",
    "                # Convert binary QR code back to an image\n",
    "                qr_image = Image.open(io.BytesIO(qr_binary))\n",
    "                qr_image.show()\n",
    "            else:\n",
    "                print(\"❌ QR code not found in database.\")\n",
    "\n",
    "        else:\n",
    "            print(\"❌ No record found for this ID.\")\n",
    "\n",
    "        conn.close()\n",
    "    except Exception as e:\n",
    "        print(\"❌ Error:\", e)\n",
    "\n",
    "# Example usage\n",
    "four_digit_number = input(\"Enter a 4-digit number to retrieve info: \")\n",
    "\n",
    "if four_digit_number.isdigit() and len(four_digit_number) == 4:\n",
    "    fetch_qr_info(int(four_digit_number))\n",
    "else:\n",
    "    print(\"❌ Invalid input! Please enter a 4-digit number.\")\n"
   ]
  },
  {
   "cell_type": "code",
   "execution_count": null,
   "metadata": {},
   "outputs": [],
   "source": []
  }
 ],
 "metadata": {
  "kernelspec": {
   "display_name": "Python 3",
   "language": "python",
   "name": "python3"
  },
  "language_info": {
   "codemirror_mode": {
    "name": "ipython",
    "version": 3
   },
   "file_extension": ".py",
   "mimetype": "text/x-python",
   "name": "python",
   "nbconvert_exporter": "python",
   "pygments_lexer": "ipython3",
   "version": "3.11.9"
  }
 },
 "nbformat": 4,
 "nbformat_minor": 2
}
